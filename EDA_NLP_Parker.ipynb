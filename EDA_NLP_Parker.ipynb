{
 "cells": [
  {
   "cell_type": "markdown",
   "metadata": {
    "id": "UTCHjuSVeypY"
   },
   "source": [
    "**EDA**\n"
   ]
  },
  {
   "cell_type": "markdown",
   "metadata": {
    "id": "J5zFLiAzfJdz"
   },
   "source": [
    "**Imports**\n"
   ]
  },
  {
   "cell_type": "code",
   "execution_count": 8,
   "metadata": {
    "colab": {
     "base_uri": "https://localhost:8080/"
    },
    "id": "hfxUTYclfO4B",
    "outputId": "5fe33250-e44c-48fc-d34e-cf2ae4ba94f3"
   },
   "outputs": [],
   "source": [
    "import numpy as np\n",
    "import pandas as pd\n",
    "import seaborn as sns\n",
    "import matplotlib.pyplot as plt\n",
    "from nltk.sentiment.vader import SentimentIntensityAnalyzer\n",
    "from nltk.stem import WordNetLemmatizer, PorterStemmer\n",
    "from sklearn.feature_extraction.text import CountVectorizer, ENGLISH_STOP_WORDS, TfidfVectorizer\n",
    "import seaborn as sns\n",
    "from datetime import datetime"
   ]
  },
  {
   "cell_type": "markdown",
   "metadata": {
    "id": "-dk-lBZnkxTg"
   },
   "source": [
    "**Load Data**"
   ]
  },
  {
   "cell_type": "code",
   "execution_count": 9,
   "metadata": {
    "colab": {
     "base_uri": "https://localhost:8080/",
     "height": 206
    },
    "id": "wYPzurlgk2pC",
    "outputId": "422de22d-1b00-4300-9636-9d7bffbaff2a"
   },
   "outputs": [
    {
     "data": {
      "text/html": [
       "<div>\n",
       "<style scoped>\n",
       "    .dataframe tbody tr th:only-of-type {\n",
       "        vertical-align: middle;\n",
       "    }\n",
       "\n",
       "    .dataframe tbody tr th {\n",
       "        vertical-align: top;\n",
       "    }\n",
       "\n",
       "    .dataframe thead th {\n",
       "        text-align: right;\n",
       "    }\n",
       "</style>\n",
       "<table border=\"1\" class=\"dataframe\">\n",
       "  <thead>\n",
       "    <tr style=\"text-align: right;\">\n",
       "      <th></th>\n",
       "      <th>ImberJane</th>\n",
       "      <th>2022-03-28 22:56:22+00:00</th>\n",
       "      <th>RT @oliviaprentzel: Mandatory evacuation orders were issued for a wildfire just east of Estes Park... two days after the #NCAR fire sparked…</th>\n",
       "      <th>1508578772563501058</th>\n",
       "    </tr>\n",
       "  </thead>\n",
       "  <tbody>\n",
       "    <tr>\n",
       "      <th>0</th>\n",
       "      <td>boulder_fire</td>\n",
       "      <td>2022-03-28 22:55:38+00:00</td>\n",
       "      <td>RT @BoulderOEM: Containment of #NCARFire is cu...</td>\n",
       "      <td>1508578590010621955</td>\n",
       "    </tr>\n",
       "    <tr>\n",
       "      <th>1</th>\n",
       "      <td>RachelAnneLevy</td>\n",
       "      <td>2022-03-28 22:47:19+00:00</td>\n",
       "      <td>Climate change is dangerous and costly.,1\\n\\nW...</td>\n",
       "      <td>1508576497744891908</td>\n",
       "    </tr>\n",
       "    <tr>\n",
       "      <th>2</th>\n",
       "      <td>Boulderchick</td>\n",
       "      <td>2022-03-28 22:45:07+00:00</td>\n",
       "      <td>No more Fire!!  #Boulder this up near Estes ht...</td>\n",
       "      <td>1508575942947467264</td>\n",
       "    </tr>\n",
       "    <tr>\n",
       "      <th>3</th>\n",
       "      <td>KhalaCompany</td>\n",
       "      <td>2022-03-28 22:40:19+00:00</td>\n",
       "      <td>RT @rmpbs: \"The concern is that any time there...</td>\n",
       "      <td>1508574735940128778</td>\n",
       "    </tr>\n",
       "    <tr>\n",
       "      <th>4</th>\n",
       "      <td>KhalaCompany</td>\n",
       "      <td>2022-03-28 22:39:29+00:00</td>\n",
       "      <td>RT @CUBoulderENVS: As we return from Spring Br...</td>\n",
       "      <td>1508574525851672588</td>\n",
       "    </tr>\n",
       "  </tbody>\n",
       "</table>\n",
       "</div>"
      ],
      "text/plain": [
       "        ImberJane  2022-03-28 22:56:22+00:00  \\\n",
       "0    boulder_fire  2022-03-28 22:55:38+00:00   \n",
       "1  RachelAnneLevy  2022-03-28 22:47:19+00:00   \n",
       "2    Boulderchick  2022-03-28 22:45:07+00:00   \n",
       "3    KhalaCompany  2022-03-28 22:40:19+00:00   \n",
       "4    KhalaCompany  2022-03-28 22:39:29+00:00   \n",
       "\n",
       "  RT @oliviaprentzel: Mandatory evacuation orders were issued for a wildfire just east of Estes Park... two days after the #NCAR fire sparked…  \\\n",
       "0  RT @BoulderOEM: Containment of #NCARFire is cu...                                                                                             \n",
       "1  Climate change is dangerous and costly.,1\\n\\nW...                                                                                             \n",
       "2  No more Fire!!  #Boulder this up near Estes ht...                                                                                             \n",
       "3  RT @rmpbs: \"The concern is that any time there...                                                                                             \n",
       "4  RT @CUBoulderENVS: As we return from Spring Br...                                                                                             \n",
       "\n",
       "   1508578772563501058  \n",
       "0  1508578590010621955  \n",
       "1  1508576497744891908  \n",
       "2  1508575942947467264  \n",
       "3  1508574735940128778  \n",
       "4  1508574525851672588  "
      ]
     },
     "execution_count": 9,
     "metadata": {},
     "output_type": "execute_result"
    }
   ],
   "source": [
    "boulderfiretweet= \"boulder_fire_tweets.csv\"\n",
    "boulderfire = pd.read_csv(boulderfiretweet)\n",
    "boulderfire.head()"
   ]
  },
  {
   "cell_type": "code",
   "execution_count": 10,
   "metadata": {},
   "outputs": [],
   "source": [
    "boulderfire = boulderfire.rename(columns={\"ImberJane\": \"user\", \"2022-03-28 22:56:22+00:00\" : \"date\",\"RT @oliviaprentzel: Mandatory evacuation orders were issued for a wildfire just east of Estes Park... two days after the #NCAR fire sparked…\": \"body\",\"1508578772563501058\":\"id\"})"
   ]
  },
  {
   "cell_type": "code",
   "execution_count": 11,
   "metadata": {},
   "outputs": [
    {
     "name": "stdout",
     "output_type": "stream",
     "text": [
      "0      2022-03-28 22:55:38\n",
      "1      2022-03-28 22:47:19\n",
      "2      2022-03-28 22:45:07\n",
      "3      2022-03-28 22:40:19\n",
      "4      2022-03-28 22:39:29\n",
      "               ...        \n",
      "4994   2022-03-26 21:54:37\n",
      "4995   2022-03-26 21:54:32\n",
      "4996   2022-03-26 21:54:31\n",
      "4997   2022-03-26 21:54:28\n",
      "4998   2022-03-26 21:54:27\n",
      "Name: date, Length: 4999, dtype: datetime64[ns]\n"
     ]
    }
   ],
   "source": [
    "datetime_object=[]\n",
    "for i in range(0,len(boulderfire['date'])):\n",
    "    datetime_object.append(datetime.strptime(boulderfire['date'][i][:-6], '%Y-%m-%d %H:%M:%S'))\n",
    "boulderfire['date']=datetime_object\n",
    "print(boulderfire.date)\n",
    "boulderfire['hod'] = [(r.hour +24*(r.day))for r in boulderfire.date]\n",
    "cats = boulderfire['hod'].unique()"
   ]
  },
  {
   "cell_type": "code",
   "execution_count": 12,
   "metadata": {},
   "outputs": [],
   "source": [
    "dic=[]\n",
    "for i in cats:\n",
    "    dic.append(boulderfire.query('hod == ' +'\"'+ str(i) +'\"').hod.count())\n",
    "    "
   ]
  },
  {
   "cell_type": "code",
   "execution_count": 13,
   "metadata": {},
   "outputs": [
    {
     "name": "stdout",
     "output_type": "stream",
     "text": [
      "0       694\n",
      "1       694\n",
      "2       694\n",
      "3       694\n",
      "4       694\n",
      "       ... \n",
      "4994    645\n",
      "4995    645\n",
      "4996    645\n",
      "4997    645\n",
      "4998    645\n",
      "Name: hod, Length: 4999, dtype: int64\n"
     ]
    }
   ],
   "source": [
    "print(boulderfire['hod'])"
   ]
  },
  {
   "cell_type": "code",
   "execution_count": 14,
   "metadata": {},
   "outputs": [
    {
     "data": {
      "text/plain": [
       "<BarContainer object of 50 artists>"
      ]
     },
     "execution_count": 14,
     "metadata": {},
     "output_type": "execute_result"
    },
    {
     "data": {
      "image/png": "[encoded data removed]",
      "text/plain": [
       "<Figure size 432x288 with 1 Axes>"
      ]
     },
     "metadata": {
      "needs_background": "light"
     },
     "output_type": "display_data"
    }
   ],
   "source": [
    "plt.bar(cats,dic)"
   ]
  },
  {
   "cell_type": "code",
   "execution_count": 2,
   "metadata": {},
   "outputs": [],
   "source": [
    "import spacy"
   ]
  },
  {
   "cell_type": "code",
   "execution_count": 3,
   "metadata": {},
   "outputs": [],
   "source": [
    "nlp = spacy.load(\"en_core_web_sm\")"
   ]
  },
  {
   "cell_type": "code",
   "execution_count": 19,
   "metadata": {},
   "outputs": [],
   "source": [
    "bodies=[]\n",
    "for i in boulderfire['body']:\n",
    "    bodies.append(nlp(i))"
   ]
  },
  {
   "cell_type": "code",
   "execution_count": 4,
   "metadata": {},
   "outputs": [],
   "source": [
    "l=nlp(\"hello, this is a test\")"
   ]
  },
  {
   "cell_type": "code",
   "execution_count": 9,
   "metadata": {},
   "outputs": [
    {
     "name": "stdout",
     "output_type": "stream",
     "text": [
      "hello\n",
      ",\n",
      "this\n",
      "is\n",
      "a\n",
      "test\n"
     ]
    }
   ],
   "source": [
    "for token in l:\n",
    "    print(token.text)"
   ]
  },
  {
   "cell_type": "code",
   "execution_count": 11,
   "metadata": {},
   "outputs": [
    {
     "name": "stdout",
     "output_type": "stream",
     "text": [
      "hello\n"
     ]
    }
   ],
   "source": [
    "print(l[0].text)"
   ]
  },
  {
   "cell_type": "code",
   "execution_count": 14,
   "metadata": {},
   "outputs": [],
   "source": [
    "ret=[]\n",
    "for token in l:\n",
    "    ret.append(token.text)"
   ]
  },
  {
   "cell_type": "code",
   "execution_count": 15,
   "metadata": {},
   "outputs": [
    {
     "name": "stdout",
     "output_type": "stream",
     "text": [
      "['hello', ',', 'this', 'is', 'a', 'test']\n"
     ]
    }
   ],
   "source": [
    "print(ret)"
   ]
  },
  {
   "cell_type": "code",
   "execution_count": null,
   "metadata": {},
   "outputs": [],
   "source": []
  }
 ],
 "metadata": {
  "colab": {
   "collapsed_sections": [],
   "name": "EDA_NLP.ipynb",
   "provenance": []
  },
  "kernelspec": {
   "display_name": "Python 3",
   "language": "python",
   "name": "python3"
  },
  "language_info": {
   "codemirror_mode": {
    "name": "ipython",
    "version": 3
   },
   "file_extension": ".py",
   "mimetype": "text/x-python",
   "name": "python",
   "nbconvert_exporter": "python",
   "pygments_lexer": "ipython3",
   "version": "3.8.5"
  }
 },
 "nbformat": 4,
 "nbformat_minor": 1
}
