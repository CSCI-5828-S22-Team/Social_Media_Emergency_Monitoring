{
 "cells": [
  {
   "cell_type": "markdown",
   "metadata": {
    "id": "UTCHjuSVeypY"
   },
   "source": [
    "**EDA**\n"
   ]
  },
  {
   "cell_type": "markdown",
   "metadata": {
    "id": "J5zFLiAzfJdz"
   },
   "source": [
    "**Imports**\n"
   ]
  },
  {
   "cell_type": "code",
   "execution_count": 20,
   "metadata": {
    "colab": {
     "base_uri": "https://localhost:8080/"
    },
    "id": "hfxUTYclfO4B",
    "outputId": "5fe33250-e44c-48fc-d34e-cf2ae4ba94f3"
   },
   "outputs": [],
   "source": [
    "import numpy as np\n",
    "import pandas as pd\n",
    "import seaborn as sns\n",
    "import matplotlib.pyplot as plt\n",
    "from nltk.sentiment.vader import SentimentIntensityAnalyzer\n",
    "from nltk.stem import WordNetLemmatizer, PorterStemmer\n",
    "from sklearn.feature_extraction.text import CountVectorizer, ENGLISH_STOP_WORDS, TfidfVectorizer\n",
    "import seaborn as sns\n",
    "from datetime import datetime"
   ]
  },
  {
   "cell_type": "markdown",
   "metadata": {
    "id": "-dk-lBZnkxTg"
   },
   "source": [
    "**Load Data**"
   ]
  },
  {
   "cell_type": "code",
   "execution_count": 22,
   "metadata": {
    "colab": {
     "base_uri": "https://localhost:8080/",
     "height": 206
    },
    "id": "wYPzurlgk2pC",
    "outputId": "422de22d-1b00-4300-9636-9d7bffbaff2a"
   },
   "outputs": [
    {
     "data": {
      "text/html": [
       "<div>\n",
       "<style scoped>\n",
       "    .dataframe tbody tr th:only-of-type {\n",
       "        vertical-align: middle;\n",
       "    }\n",
       "\n",
       "    .dataframe tbody tr th {\n",
       "        vertical-align: top;\n",
       "    }\n",
       "\n",
       "    .dataframe thead th {\n",
       "        text-align: right;\n",
       "    }\n",
       "</style>\n",
       "<table border=\"1\" class=\"dataframe\">\n",
       "  <thead>\n",
       "    <tr style=\"text-align: right;\">\n",
       "      <th></th>\n",
       "      <th>ImberJane</th>\n",
       "      <th>2022-03-28 22:56:22+00:00</th>\n",
       "      <th>RT @oliviaprentzel: Mandatory evacuation orders were issued for a wildfire just east of Estes Park... two days after the #NCAR fire sparked…</th>\n",
       "      <th>1508578772563501058</th>\n",
       "    </tr>\n",
       "  </thead>\n",
       "  <tbody>\n",
       "    <tr>\n",
       "      <th>0</th>\n",
       "      <td>boulder_fire</td>\n",
       "      <td>2022-03-28 22:55:38+00:00</td>\n",
       "      <td>RT @BoulderOEM: Containment of #NCARFire is cu...</td>\n",
       "      <td>1508578590010621955</td>\n",
       "    </tr>\n",
       "    <tr>\n",
       "      <th>1</th>\n",
       "      <td>RachelAnneLevy</td>\n",
       "      <td>2022-03-28 22:47:19+00:00</td>\n",
       "      <td>Climate change is dangerous and costly. \\n\\nWe...</td>\n",
       "      <td>1508576497744891908</td>\n",
       "    </tr>\n",
       "    <tr>\n",
       "      <th>2</th>\n",
       "      <td>Boulderchick</td>\n",
       "      <td>2022-03-28 22:45:07+00:00</td>\n",
       "      <td>No more Fire!!  #Boulder this up near Estes ht...</td>\n",
       "      <td>1508575942947467264</td>\n",
       "    </tr>\n",
       "    <tr>\n",
       "      <th>3</th>\n",
       "      <td>KhalaCompany</td>\n",
       "      <td>2022-03-28 22:40:19+00:00</td>\n",
       "      <td>RT @rmpbs: \"The concern is that any time there...</td>\n",
       "      <td>1508574735940128778</td>\n",
       "    </tr>\n",
       "    <tr>\n",
       "      <th>4</th>\n",
       "      <td>KhalaCompany</td>\n",
       "      <td>2022-03-28 22:39:29+00:00</td>\n",
       "      <td>RT @CUBoulderENVS: As we return from Spring Br...</td>\n",
       "      <td>1508574525851672588</td>\n",
       "    </tr>\n",
       "  </tbody>\n",
       "</table>\n",
       "</div>"
      ],
      "text/plain": [
       "        ImberJane  2022-03-28 22:56:22+00:00  \\\n",
       "0    boulder_fire  2022-03-28 22:55:38+00:00   \n",
       "1  RachelAnneLevy  2022-03-28 22:47:19+00:00   \n",
       "2    Boulderchick  2022-03-28 22:45:07+00:00   \n",
       "3    KhalaCompany  2022-03-28 22:40:19+00:00   \n",
       "4    KhalaCompany  2022-03-28 22:39:29+00:00   \n",
       "\n",
       "  RT @oliviaprentzel: Mandatory evacuation orders were issued for a wildfire just east of Estes Park... two days after the #NCAR fire sparked…  \\\n",
       "0  RT @BoulderOEM: Containment of #NCARFire is cu...                                                                                             \n",
       "1  Climate change is dangerous and costly. \\n\\nWe...                                                                                             \n",
       "2  No more Fire!!  #Boulder this up near Estes ht...                                                                                             \n",
       "3  RT @rmpbs: \"The concern is that any time there...                                                                                             \n",
       "4  RT @CUBoulderENVS: As we return from Spring Br...                                                                                             \n",
       "\n",
       "   1508578772563501058  \n",
       "0  1508578590010621955  \n",
       "1  1508576497744891908  \n",
       "2  1508575942947467264  \n",
       "3  1508574735940128778  \n",
       "4  1508574525851672588  "
      ]
     },
     "execution_count": 22,
     "metadata": {},
     "output_type": "execute_result"
    }
   ],
   "source": [
    "boulderfiretweet= \"boulder_fire_tweets.csv\"\n",
    "boulderfire = pd.read_csv(boulderfiretweet)\n",
    "boulderfire.head()"
   ]
  },
  {
   "cell_type": "code",
   "execution_count": 23,
   "metadata": {},
   "outputs": [],
   "source": [
    "boulderfire = boulderfire.rename(columns={\"ImberJane\": \"user\", \"2022-03-28 22:56:22+00:00\" : \"date\",\"RT @oliviaprentzel: Mandatory evacuation orders were issued for a wildfire just east of Estes Park... two days after the #NCAR fire sparked…\": \"body\",\"1508578772563501058\":\"id\"})"
   ]
  },
  {
   "cell_type": "code",
   "execution_count": 24,
   "metadata": {},
   "outputs": [
    {
     "name": "stdout",
     "output_type": "stream",
     "text": [
      "0      2022-03-28 22:55:38\n",
      "1      2022-03-28 22:47:19\n",
      "2      2022-03-28 22:45:07\n",
      "3      2022-03-28 22:40:19\n",
      "4      2022-03-28 22:39:29\n",
      "               ...        \n",
      "4994   2022-03-26 21:54:37\n",
      "4995   2022-03-26 21:54:32\n",
      "4996   2022-03-26 21:54:31\n",
      "4997   2022-03-26 21:54:28\n",
      "4998   2022-03-26 21:54:27\n",
      "Name: date, Length: 4999, dtype: datetime64[ns]\n"
     ]
    }
   ],
   "source": [
    "datetime_object=[]\n",
    "for i in range(0,len(boulderfire['date'])):\n",
    "    datetime_object.append(datetime.strptime(boulderfire['date'][i][:-6], '%Y-%m-%d %H:%M:%S'))\n",
    "boulderfire['date']=datetime_object\n",
    "print(boulderfire.date)\n",
    "boulderfire['hod'] = [(r.hour +24*(r.day))for r in boulderfire.date]\n",
    "cats = boulderfire['hod'].unique()"
   ]
  },
  {
   "cell_type": "code",
   "execution_count": 25,
   "metadata": {},
   "outputs": [],
   "source": [
    "dic=[]\n",
    "for i in cats:\n",
    "    dic.append(boulderfire.query('hod == ' +'\"'+ str(i) +'\"').hod.count())\n",
    "    "
   ]
  },
  {
   "cell_type": "code",
   "execution_count": 26,
   "metadata": {},
   "outputs": [
    {
     "name": "stdout",
     "output_type": "stream",
     "text": [
      "0       694\n",
      "1       694\n",
      "2       694\n",
      "3       694\n",
      "4       694\n",
      "       ... \n",
      "4994    645\n",
      "4995    645\n",
      "4996    645\n",
      "4997    645\n",
      "4998    645\n",
      "Name: hod, Length: 4999, dtype: int64\n"
     ]
    }
   ],
   "source": [
    "print(boulderfire['hod'])"
   ]
  },
  {
   "cell_type": "code",
   "execution_count": 27,
   "metadata": {},
   "outputs": [
    {
     "data": {
      "text/plain": [
       "<BarContainer object of 50 artists>"
      ]
     },
     "execution_count": 27,
     "metadata": {},
     "output_type": "execute_result"
    },
    {
     "data": {
      "image/png": "[encoded data removed]",
      "text/plain": [
       "<Figure size 432x288 with 1 Axes>"
      ]
     },
     "metadata": {
      "needs_background": "light"
     },
     "output_type": "display_data"
    }
   ],
   "source": [
    "plt.bar(cats,dic)"
   ]
  },
  {
   "cell_type": "code",
   "execution_count": 28,
   "metadata": {},
   "outputs": [],
   "source": [
    "import spacy"
   ]
  },
  {
   "cell_type": "code",
   "execution_count": 29,
   "metadata": {},
   "outputs": [],
   "source": [
    "nlp = spacy.load(\"en_core_web_sm\")"
   ]
  },
  {
   "cell_type": "code",
   "execution_count": 30,
   "metadata": {},
   "outputs": [],
   "source": [
    "bodies=[]\n",
    "for i in boulderfire['body']:\n",
    "    bodies.append(nlp(i))"
   ]
  },
  {
   "cell_type": "code",
   "execution_count": 31,
   "metadata": {},
   "outputs": [],
   "source": [
    "l=nlp(\"hello, this is a test\")"
   ]
  },
  {
   "cell_type": "code",
   "execution_count": 32,
   "metadata": {},
   "outputs": [
    {
     "name": "stdout",
     "output_type": "stream",
     "text": [
      "hello\n",
      ",\n",
      "this\n",
      "is\n",
      "a\n",
      "test\n"
     ]
    }
   ],
   "source": [
    "for token in l:\n",
    "    print(token.text)"
   ]
  },
  {
   "cell_type": "code",
   "execution_count": 33,
   "metadata": {},
   "outputs": [
    {
     "name": "stdout",
     "output_type": "stream",
     "text": [
      "hello\n"
     ]
    }
   ],
   "source": [
    "print(l[0].text)"
   ]
  },
  {
   "cell_type": "code",
   "execution_count": 34,
   "metadata": {},
   "outputs": [],
   "source": [
    "ret=[]\n",
    "for token in l:\n",
    "    ret.append(token.text)"
   ]
  },
  {
   "cell_type": "code",
   "execution_count": 35,
   "metadata": {},
   "outputs": [
    {
     "name": "stdout",
     "output_type": "stream",
     "text": [
      "['hello', ',', 'this', 'is', 'a', 'test']\n"
     ]
    }
   ],
   "source": [
    "print(ret)"
   ]
  },
  {
   "cell_type": "code",
   "execution_count": 47,
   "metadata": {},
   "outputs": [],
   "source": [
    "from sklearn.feature_extraction.text import TfidfVectorizer\n",
    "from sklearn.feature_extraction.text import CountVectorizer"
   ]
  },
  {
   "cell_type": "code",
   "execution_count": 56,
   "metadata": {},
   "outputs": [
    {
     "name": "stdout",
     "output_type": "stream",
     "text": [
      "  (0, 1297)\t0.3914921842933826\n",
      "  (0, 332)\t0.2991774971822654\n",
      "  (0, 1710)\t0.29492576140495125\n",
      "  (0, 96)\t0.2024553520062776\n",
      "  (0, 25)\t0.33033168947619523\n",
      "  (0, 601)\t0.3443225349700073\n",
      "  (0, 2118)\t0.35527353110924464\n",
      "  (0, 147)\t0.29174371355287876\n",
      "  (0, 659)\t0.26764587509348575\n",
      "  (0, 1436)\t0.14057385771168554\n",
      "  (0, 596)\t0.22757325968062803\n",
      "  (0, 302)\t0.21693708444542437\n",
      "  (1, 1114)\t0.15048462212673316\n",
      "  (1, 1690)\t0.4515560297773389\n",
      "  (1, 614)\t0.6366016382050477\n",
      "  (1, 683)\t0.2691183183706577\n",
      "  (1, 460)\t0.4741845287172644\n",
      "  (1, 496)\t0.2662972927993941\n",
      "  (2, 858)\t0.911636276572289\n",
      "  (2, 1437)\t0.30837289433785203\n",
      "  (2, 292)\t0.1510111676173982\n",
      "  (2, 1114)\t0.22587847292280672\n",
      "  (3, 621)\t0.24605932918953027\n",
      "  (3, 2593)\t0.25414751710424066\n",
      "  (3, 1255)\t0.3084326873632684\n",
      "  :\t:\n",
      "  (4996, 1114)\t0.14985069431247738\n",
      "  (4997, 755)\t0.3811824970181194\n",
      "  (4997, 1467)\t0.3353321043097359\n",
      "  (4997, 1195)\t0.3664739311633416\n",
      "  (4997, 1312)\t0.3353321043097359\n",
      "  (4997, 434)\t0.35756322940456364\n",
      "  (4997, 1819)\t0.33010637097863205\n",
      "  (4997, 2794)\t0.3095624159497757\n",
      "  (4997, 576)\t0.3253356502240026\n",
      "  (4997, 2785)\t0.1636559354959032\n",
      "  (4997, 1437)\t0.15613542267559005\n",
      "  (4997, 292)\t0.07646000318965998\n",
      "  (4998, 1134)\t0.35607912339218095\n",
      "  (4998, 1099)\t0.35607912339218095\n",
      "  (4998, 301)\t0.2887617258765422\n",
      "  (4998, 1923)\t0.3280582754129458\n",
      "  (4998, 2060)\t0.3280582754129458\n",
      "  (4998, 1082)\t0.3377357482727732\n",
      "  (4998, 929)\t0.30370720518967226\n",
      "  (4998, 2185)\t0.18915141099586968\n",
      "  (4998, 2664)\t0.23491541864160623\n",
      "  (4998, 2476)\t0.3390648518506304\n",
      "  (4998, 1432)\t0.11633695521713663\n",
      "  (4998, 292)\t0.08247587233661668\n",
      "  (4998, 1114)\t0.12336520795316996\n"
     ]
    }
   ],
   "source": [
    "tf_id_list=[]\n",
    "count = CountVectorizer()\n",
    "word_count=count.fit_transform(boulderfire['body'])\n",
    "vectorizer = TfidfVectorizer(min_df=0, max_features=3000, strip_accents='unicode',lowercase =True,\n",
    "                            analyzer='word', token_pattern=r'\\w{3,}', ngram_range=(1,1),\n",
    "                            use_idf=True,smooth_idf=True, sublinear_tf=True, stop_words = \"english\")\n",
    "x = vectorizer.fit_transform(boulderfire['body'])\n",
    "print(x)"
   ]
  },
  {
   "cell_type": "code",
   "execution_count": 70,
   "metadata": {},
   "outputs": [
    {
     "name": "stderr",
     "output_type": "stream",
     "text": [
      "[nltk_data] Downloading package stopwords to\n",
      "[nltk_data]     /Users/parkermorris/nltk_data...\n",
      "[nltk_data]   Package stopwords is already up-to-date!\n",
      "[nltk_data] Downloading package punkt to\n",
      "[nltk_data]     /Users/parkermorris/nltk_data...\n",
      "[nltk_data]   Unzipping tokenizers/punkt.zip.\n"
     ]
    },
    {
     "data": {
      "text/plain": [
       "True"
      ]
     },
     "execution_count": 70,
     "metadata": {},
     "output_type": "execute_result"
    }
   ],
   "source": [
    "import math\n",
    "\n",
    "from nltk import sent_tokenize, word_tokenize, PorterStemmer\n",
    "from nltk.corpus import stopwords\n",
    "import nltk\n",
    "nltk.download('stopwords')\n",
    "nltk.download('punkt')"
   ]
  },
  {
   "cell_type": "code",
   "execution_count": 141,
   "metadata": {},
   "outputs": [],
   "source": [
    "def freq_table(full):\n",
    "    frequency_matrix = {}\n",
    "    stopWords = set(stopwords.words(\"english\"))\n",
    "    ps = PorterStemmer()\n",
    "\n",
    "    for sent in sentences:\n",
    "        freq_table = {}\n",
    "        words = word_tokenize(sent)\n",
    "        for word in words:\n",
    "            word = word.lower()\n",
    "            word = ps.stem(word)\n",
    "            if word in stopWords:\n",
    "                continue\n",
    "\n",
    "            if word in freq_table:\n",
    "                freq_table[word] += 1\n",
    "            else:\n",
    "                freq_table[word] = 1\n",
    "\n",
    "        frequency_matrix[sent[:15]] = freq_table\n",
    "\n",
    "    return frequency_matrix"
   ]
  },
  {
   "cell_type": "code",
   "execution_count": 147,
   "metadata": {},
   "outputs": [],
   "source": [
    "def tfMatrix(freqTable):\n",
    "    matrix={}\n",
    "    print(type(freqTable))\n",
    "    for sent,f_table in freqTable.items():\n",
    "        tf_table={}\n",
    "        count_words_in_sentence = len(f_table)\n",
    "        for word,count in f_table.items():\n",
    "            tf_table[word] = count / count_words_in_sentence\n",
    "        matrix[sent] = tf_table\n",
    "    return matrix"
   ]
  },
  {
   "cell_type": "code",
   "execution_count": 75,
   "metadata": {},
   "outputs": [],
   "source": [
    "def _create_documents_per_words(freq_matrix):\n",
    "    word_per_doc_table = {}\n",
    "\n",
    "    for sent, f_table in freq_matrix.items():\n",
    "        for word, count in f_table.items():\n",
    "            if word in word_per_doc_table:\n",
    "                word_per_doc_table[word] += 1\n",
    "            else:\n",
    "                word_per_doc_table[word] = 1\n",
    "\n",
    "    return word_per_doc_table"
   ]
  },
  {
   "cell_type": "code",
   "execution_count": 76,
   "metadata": {},
   "outputs": [],
   "source": [
    "def _create_idf_matrix(freq_matrix, count_doc_per_words, total_documents):\n",
    "    idf_matrix = {}\n",
    "\n",
    "    for sent, f_table in freq_matrix.items():\n",
    "        idf_table = {}\n",
    "\n",
    "        for word in f_table.keys():\n",
    "            idf_table[word] = math.log10(total_documents / float(count_doc_per_words[word]))\n",
    "\n",
    "        idf_matrix[sent] = idf_table\n",
    "\n",
    "    return idf_matrix"
   ]
  },
  {
   "cell_type": "code",
   "execution_count": 77,
   "metadata": {},
   "outputs": [],
   "source": [
    "def _create_tf_idf_matrix(tf_matrix, idf_matrix):\n",
    "    tf_idf_matrix = {}\n",
    "\n",
    "    for (sent1, f_table1), (sent2, f_table2) in zip(tf_matrix.items(), idf_matrix.items()):\n",
    "\n",
    "        tf_idf_table = {}\n",
    "\n",
    "        for (word1, value1), (word2, value2) in zip(f_table1.items(),\n",
    "                                                    f_table2.items()):  # here, keys are the same in both the table\n",
    "            tf_idf_table[word1] = float(value1 * value2)\n",
    "\n",
    "        tf_idf_matrix[sent1] = tf_idf_table\n",
    "\n",
    "    return tf_idf_matrix"
   ]
  },
  {
   "cell_type": "code",
   "execution_count": 78,
   "metadata": {},
   "outputs": [],
   "source": [
    "def _score_sentences(tf_idf_matrix) -> dict:\n",
    "    \"\"\"\n",
    "    score a sentence by its word's TF\n",
    "    Basic algorithm: adding the TF frequency of every non-stop word in a sentence divided by total no of words in a sentence.\n",
    "    :rtype: dict\n",
    "    \"\"\"\n",
    "\n",
    "    sentenceValue = {}\n",
    "\n",
    "    for sent, f_table in tf_idf_matrix.items():\n",
    "        total_score_per_sentence = 0\n",
    "\n",
    "        count_words_in_sentence = len(f_table)\n",
    "        for word, score in f_table.items():\n",
    "            total_score_per_sentence += score\n",
    "\n",
    "        sentenceValue[sent] = total_score_per_sentence / count_words_in_sentence\n",
    "\n",
    "    return sentenceValue"
   ]
  },
  {
   "cell_type": "code",
   "execution_count": 79,
   "metadata": {},
   "outputs": [],
   "source": [
    "def _find_average_score(sentenceValue) -> int:\n",
    "    \"\"\"\n",
    "    Find the average score from the sentence value dictionary\n",
    "    :rtype: int\n",
    "    \"\"\"\n",
    "    sumValues = 0\n",
    "    for entry in sentenceValue:\n",
    "        sumValues += sentenceValue[entry]\n",
    "\n",
    "    # Average value of a sentence from original summary_text\n",
    "    average = (sumValues / len(sentenceValue))\n",
    "\n",
    "    return average\n",
    "\n"
   ]
  },
  {
   "cell_type": "code",
   "execution_count": 80,
   "metadata": {},
   "outputs": [],
   "source": [
    "\n",
    "def _generate_summary(sentences, sentenceValue, threshold):\n",
    "    sentence_count = 0\n",
    "    summary = ''\n",
    "\n",
    "    for sentence in sentences:\n",
    "        if sentence[:15] in sentenceValue and sentenceValue[sentence[:15]] >= (threshold):\n",
    "            summary += \" \" + sentence\n",
    "            sentence_count += 1\n",
    "\n",
    "    return summary"
   ]
  },
  {
   "cell_type": "code",
   "execution_count": 181,
   "metadata": {},
   "outputs": [],
   "source": [
    "def run_summarization(text):\n",
    "    \"\"\"\n",
    "    :param text: Plain summary_text of long article\n",
    "    :return: summarized summary_text\n",
    "    \"\"\"\n",
    "\n",
    "    '''\n",
    "    We already have a sentence tokenizer, so we just need \n",
    "    to run the sent_tokenize() method to create the array of sentences.\n",
    "    '''\n",
    "    # 1 Sentence Tokenize\n",
    "    \n",
    "    total_documents = len(text)\n",
    "    #print(sentences)\n",
    "\n",
    "    # 2 Create the Frequency matrix of the words in each sentence.\n",
    "    freq_matrix = freq_table(text)\n",
    "#     print(freq_matrix)\n",
    "\n",
    "    '''\n",
    "    Term frequency (TF) is how often a word appears in a document, divided by how many words are there in a document.\n",
    "    '''\n",
    "    # 3 Calculate TermFrequency and generate a matrix\n",
    "    tf_matrix = tfMatrix(freq_matrix)\n",
    "    #print(tf_matrix)\n",
    "\n",
    "    # 4 creating table for documents per words\n",
    "    count_doc_per_words = _create_documents_per_words(freq_matrix)\n",
    "    #print(count_doc_per_words)\n",
    "\n",
    "    '''\n",
    "    Inverse document frequency (IDF) is how unique or rare a word is.\n",
    "    '''\n",
    "    # 5 Calculate IDF and generate a matrix\n",
    "    idf_matrix = _create_idf_matrix(freq_matrix, count_doc_per_words, total_documents)\n",
    "    #print(idf_matrix)\n",
    "\n",
    "    # 6 Calculate TF-IDF and generate a matrix\n",
    "    tf_idf_matrix = _create_tf_idf_matrix(tf_matrix, idf_matrix)\n",
    "    #print(tf_idf_matrix)\n",
    "\n",
    "    # 7 Important Algorithm: score the sentences\n",
    "    sentence_scores = _score_sentences(tf_idf_matrix)\n",
    "    #print(sentence_scores)\n",
    "\n",
    "    # 8 Find the threshold\n",
    "    threshold = _find_average_score(sentence_scores)\n",
    "    #print(threshold)\n",
    "\n",
    "    # 9 Important Algorithm: Generate the summary\n",
    "    summary = _generate_summary(sentences, sentence_scores, 5 * threshold)\n",
    "    return summary"
   ]
  },
  {
   "cell_type": "code",
   "execution_count": null,
   "metadata": {},
   "outputs": [],
   "source": []
  },
  {
   "cell_type": "code",
   "execution_count": 182,
   "metadata": {
    "scrolled": true
   },
   "outputs": [
    {
     "name": "stdout",
     "output_type": "stream",
     "text": [
      "<class 'dict'>\n",
      "summary of Boulder fire (March 26):\n",
      "  What are you talking about? WHAT? What is it? What are you talking about? What are you talking about? What the hell? What!\n"
     ]
    }
   ],
   "source": [
    "if __name__ == '__main__':\n",
    "    result = run_summarization(boulderfire['body'])\n",
    "    print(\"summary of Boulder fire (March 26):\\n\",result.replace(\"…\", \"\"))"
   ]
  },
  {
   "cell_type": "code",
   "execution_count": null,
   "metadata": {},
   "outputs": [],
   "source": []
  }
 ],
 "metadata": {
  "colab": {
   "collapsed_sections": [],
   "name": "EDA_NLP.ipynb",
   "provenance": []
  },
  "kernelspec": {
   "display_name": "Python 3",
   "language": "python",
   "name": "python3"
  },
  "language_info": {
   "codemirror_mode": {
    "name": "ipython",
    "version": 3
   },
   "file_extension": ".py",
   "mimetype": "text/x-python",
   "name": "python",
   "nbconvert_exporter": "python",
   "pygments_lexer": "ipython3",
   "version": "3.8.5"
  }
 },
 "nbformat": 4,
 "nbformat_minor": 1
}
