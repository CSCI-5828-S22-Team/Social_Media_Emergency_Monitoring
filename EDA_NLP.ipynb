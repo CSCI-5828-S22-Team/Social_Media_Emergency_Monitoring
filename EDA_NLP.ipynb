{
  "nbformat": 4,
  "nbformat_minor": 0,
  "metadata": {
    "colab": {
      "name": "EDA_NLP.ipynb",
      "provenance": [],
      "collapsed_sections": []
    },
    "kernelspec": {
      "name": "python3",
      "display_name": "Python 3"
    },
    "language_info": {
      "name": "python"
    }
  },
  "cells": [
    {
      "cell_type": "markdown",
      "source": [
        "**EDA**\n"
      ],
      "metadata": {
        "id": "UTCHjuSVeypY"
      }
    },
    {
      "cell_type": "markdown",
      "source": [
        "**Imports**\n"
      ],
      "metadata": {
        "id": "J5zFLiAzfJdz"
      }
    },
    {
      "cell_type": "code",
      "source": [
        "import nltk\n",
        "nltk.download('vader_lexicon')\n",
        "import numpy as np\n",
        "import pandas as pd\n",
        "import seaborn as sns\n",
        "import matplotlib.pyplot as plt\n",
        "from nltk.sentiment.vader import SentimentIntensityAnalyzer\n",
        "from nltk.stem import WordNetLemmatizer, PorterStemmer\n",
        "from sklearn.feature_extraction.text import CountVectorizer, ENGLISH_STOP_WORDS, TfidfVectorizer\n",
        "from datetime import datetime\n",
        "from dateutil.parser import parse \n",
        "from google.colab import drive\n",
        "drive.mount('/content/gdrive')\n"
      ],
      "metadata": {
        "id": "hfxUTYclfO4B",
        "colab": {
          "base_uri": "https://localhost:8080/"
        },
        "outputId": "17ce9ee4-2b94-4441-de59-fb05c8da7d85"
      },
      "execution_count": 108,
      "outputs": [
        {
          "output_type": "stream",
          "name": "stdout",
          "text": [
            "[nltk_data] Downloading package vader_lexicon to /root/nltk_data...\n",
            "[nltk_data]   Package vader_lexicon is already up-to-date!\n",
            "Drive already mounted at /content/gdrive; to attempt to forcibly remount, call drive.mount(\"/content/gdrive\", force_remount=True).\n"
          ]
        }
      ]
    },
    {
      "cell_type": "markdown",
      "source": [
        "**Load Data**"
      ],
      "metadata": {
        "id": "-dk-lBZnkxTg"
      }
    },
    {
      "cell_type": "code",
      "source": [
        "boulderfiretweet= \"/content/gdrive/MyDrive/Natural Disaster Alert System/boulder_fire_tweets.csv\"\n",
        "bf = pd.read_csv(boulderfiretweet)\n",
        "bf.head()"
      ],
      "metadata": {
        "id": "wYPzurlgk2pC",
        "colab": {
          "base_uri": "https://localhost:8080/",
          "height": 267
        },
        "outputId": "0b319965-a750-448b-843e-10c7ad600490"
      },
      "execution_count": 109,
      "outputs": [
        {
          "output_type": "execute_result",
          "data": {
            "text/plain": [
              "        ImberJane  2022-03-28 22:56:22+00:00  \\\n",
              "0    boulder_fire  2022-03-28 22:55:38+00:00   \n",
              "1  RachelAnneLevy  2022-03-28 22:47:19+00:00   \n",
              "2    Boulderchick  2022-03-28 22:45:07+00:00   \n",
              "3    KhalaCompany  2022-03-28 22:40:19+00:00   \n",
              "4    KhalaCompany  2022-03-28 22:39:29+00:00   \n",
              "\n",
              "  RT @oliviaprentzel: Mandatory evacuation orders were issued for a wildfire just east of Estes Park... two days after the #NCAR fire sparked…  \\\n",
              "0  RT @BoulderOEM: Containment of #NCARFire is cu...                                                                                             \n",
              "1  Climate change is dangerous and costly. \\n\\nWe...                                                                                             \n",
              "2  No more Fire!!  #Boulder this up near Estes ht...                                                                                             \n",
              "3  RT @rmpbs: \"The concern is that any time there...                                                                                             \n",
              "4  RT @CUBoulderENVS: As we return from Spring Br...                                                                                             \n",
              "\n",
              "   1508578772563501058  \n",
              "0  1508578590010621955  \n",
              "1  1508576497744891908  \n",
              "2  1508575942947467264  \n",
              "3  1508574735940128778  \n",
              "4  1508574525851672588  "
            ],
            "text/html": [
              "\n",
              "  <div id=\"df-8d2b7d78-7e8b-438c-a303-44c282cbefe0\">\n",
              "    <div class=\"colab-df-container\">\n",
              "      <div>\n",
              "<style scoped>\n",
              "    .dataframe tbody tr th:only-of-type {\n",
              "        vertical-align: middle;\n",
              "    }\n",
              "\n",
              "    .dataframe tbody tr th {\n",
              "        vertical-align: top;\n",
              "    }\n",
              "\n",
              "    .dataframe thead th {\n",
              "        text-align: right;\n",
              "    }\n",
              "</style>\n",
              "<table border=\"1\" class=\"dataframe\">\n",
              "  <thead>\n",
              "    <tr style=\"text-align: right;\">\n",
              "      <th></th>\n",
              "      <th>ImberJane</th>\n",
              "      <th>2022-03-28 22:56:22+00:00</th>\n",
              "      <th>RT @oliviaprentzel: Mandatory evacuation orders were issued for a wildfire just east of Estes Park... two days after the #NCAR fire sparked…</th>\n",
              "      <th>1508578772563501058</th>\n",
              "    </tr>\n",
              "  </thead>\n",
              "  <tbody>\n",
              "    <tr>\n",
              "      <th>0</th>\n",
              "      <td>boulder_fire</td>\n",
              "      <td>2022-03-28 22:55:38+00:00</td>\n",
              "      <td>RT @BoulderOEM: Containment of #NCARFire is cu...</td>\n",
              "      <td>1508578590010621955</td>\n",
              "    </tr>\n",
              "    <tr>\n",
              "      <th>1</th>\n",
              "      <td>RachelAnneLevy</td>\n",
              "      <td>2022-03-28 22:47:19+00:00</td>\n",
              "      <td>Climate change is dangerous and costly. \\n\\nWe...</td>\n",
              "      <td>1508576497744891908</td>\n",
              "    </tr>\n",
              "    <tr>\n",
              "      <th>2</th>\n",
              "      <td>Boulderchick</td>\n",
              "      <td>2022-03-28 22:45:07+00:00</td>\n",
              "      <td>No more Fire!!  #Boulder this up near Estes ht...</td>\n",
              "      <td>1508575942947467264</td>\n",
              "    </tr>\n",
              "    <tr>\n",
              "      <th>3</th>\n",
              "      <td>KhalaCompany</td>\n",
              "      <td>2022-03-28 22:40:19+00:00</td>\n",
              "      <td>RT @rmpbs: \"The concern is that any time there...</td>\n",
              "      <td>1508574735940128778</td>\n",
              "    </tr>\n",
              "    <tr>\n",
              "      <th>4</th>\n",
              "      <td>KhalaCompany</td>\n",
              "      <td>2022-03-28 22:39:29+00:00</td>\n",
              "      <td>RT @CUBoulderENVS: As we return from Spring Br...</td>\n",
              "      <td>1508574525851672588</td>\n",
              "    </tr>\n",
              "  </tbody>\n",
              "</table>\n",
              "</div>\n",
              "      <button class=\"colab-df-convert\" onclick=\"convertToInteractive('df-8d2b7d78-7e8b-438c-a303-44c282cbefe0')\"\n",
              "              title=\"Convert this dataframe to an interactive table.\"\n",
              "              style=\"display:none;\">\n",
              "        \n",
              "  <svg xmlns=\"http://www.w3.org/2000/svg\" height=\"24px\"viewBox=\"0 0 24 24\"\n",
              "       width=\"24px\">\n",
              "    <path d=\"M0 0h24v24H0V0z\" fill=\"none\"/>\n",
              "    <path d=\"M18.56 5.44l.94 2.06.94-2.06 2.06-.94-2.06-.94-.94-2.06-.94 2.06-2.06.94zm-11 1L8.5 8.5l.94-2.06 2.06-.94-2.06-.94L8.5 2.5l-.94 2.06-2.06.94zm10 10l.94 2.06.94-2.06 2.06-.94-2.06-.94-.94-2.06-.94 2.06-2.06.94z\"/><path d=\"M17.41 7.96l-1.37-1.37c-.4-.4-.92-.59-1.43-.59-.52 0-1.04.2-1.43.59L10.3 9.45l-7.72 7.72c-.78.78-.78 2.05 0 2.83L4 21.41c.39.39.9.59 1.41.59.51 0 1.02-.2 1.41-.59l7.78-7.78 2.81-2.81c.8-.78.8-2.07 0-2.86zM5.41 20L4 18.59l7.72-7.72 1.47 1.35L5.41 20z\"/>\n",
              "  </svg>\n",
              "      </button>\n",
              "      \n",
              "  <style>\n",
              "    .colab-df-container {\n",
              "      display:flex;\n",
              "      flex-wrap:wrap;\n",
              "      gap: 12px;\n",
              "    }\n",
              "\n",
              "    .colab-df-convert {\n",
              "      background-color: #E8F0FE;\n",
              "      border: none;\n",
              "      border-radius: 50%;\n",
              "      cursor: pointer;\n",
              "      display: none;\n",
              "      fill: #1967D2;\n",
              "      height: 32px;\n",
              "      padding: 0 0 0 0;\n",
              "      width: 32px;\n",
              "    }\n",
              "\n",
              "    .colab-df-convert:hover {\n",
              "      background-color: #E2EBFA;\n",
              "      box-shadow: 0px 1px 2px rgba(60, 64, 67, 0.3), 0px 1px 3px 1px rgba(60, 64, 67, 0.15);\n",
              "      fill: #174EA6;\n",
              "    }\n",
              "\n",
              "    [theme=dark] .colab-df-convert {\n",
              "      background-color: #3B4455;\n",
              "      fill: #D2E3FC;\n",
              "    }\n",
              "\n",
              "    [theme=dark] .colab-df-convert:hover {\n",
              "      background-color: #434B5C;\n",
              "      box-shadow: 0px 1px 3px 1px rgba(0, 0, 0, 0.15);\n",
              "      filter: drop-shadow(0px 1px 2px rgba(0, 0, 0, 0.3));\n",
              "      fill: #FFFFFF;\n",
              "    }\n",
              "  </style>\n",
              "\n",
              "      <script>\n",
              "        const buttonEl =\n",
              "          document.querySelector('#df-8d2b7d78-7e8b-438c-a303-44c282cbefe0 button.colab-df-convert');\n",
              "        buttonEl.style.display =\n",
              "          google.colab.kernel.accessAllowed ? 'block' : 'none';\n",
              "\n",
              "        async function convertToInteractive(key) {\n",
              "          const element = document.querySelector('#df-8d2b7d78-7e8b-438c-a303-44c282cbefe0');\n",
              "          const dataTable =\n",
              "            await google.colab.kernel.invokeFunction('convertToInteractive',\n",
              "                                                     [key], {});\n",
              "          if (!dataTable) return;\n",
              "\n",
              "          const docLinkHtml = 'Like what you see? Visit the ' +\n",
              "            '<a target=\"_blank\" href=https://colab.research.google.com/notebooks/data_table.ipynb>data table notebook</a>'\n",
              "            + ' to learn more about interactive tables.';\n",
              "          element.innerHTML = '';\n",
              "          dataTable['output_type'] = 'display_data';\n",
              "          await google.colab.output.renderOutput(dataTable, element);\n",
              "          const docLink = document.createElement('div');\n",
              "          docLink.innerHTML = docLinkHtml;\n",
              "          element.appendChild(docLink);\n",
              "        }\n",
              "      </script>\n",
              "    </div>\n",
              "  </div>\n",
              "  "
            ]
          },
          "metadata": {},
          "execution_count": 109
        }
      ]
    },
    {
      "cell_type": "markdown",
      "source": [
        "**Rename Column**\n"
      ],
      "metadata": {
        "id": "xGDF5yWASdeY"
      }
    },
    {
      "cell_type": "code",
      "source": [
        "bf = bf.rename(columns={\"target\": \"\", \"ImberJane\": \"name\", \"2022-03-28 22:56:22+00:00\" : \"date\",\"RT @oliviaprentzel: Mandatory evacuation orders were issued for a wildfire just east of Estes Park... two days after the #NCAR fire sparked…\": \"text\",\"1508578772563501058\":\"id\"})\n"
      ],
      "metadata": {
        "id": "hCVbq0umSjMJ"
      },
      "execution_count": 110,
      "outputs": []
    },
    {
      "cell_type": "markdown",
      "source": [
        "**Feature Engineering**\n",
        "\n",
        "**Binarizing**"
      ],
      "metadata": {
        "id": "ZWnUbeK_HBqP"
      }
    },
    {
      "cell_type": "code",
      "source": [
        "bf['word_count'] = bf['text'].apply(lambda x: len(x.split()))\n",
        "bf['character_count'] = bf['text'].str.len()\n",
        "bf['mention_count'] = bf['text'].apply(lambda x: str.count(x, '@'))"
      ],
      "metadata": {
        "id": "I-miBgUJc9Eg"
      },
      "execution_count": 111,
      "outputs": []
    },
    {
      "cell_type": "code",
      "source": [
        "bf['mention'] = np.where(bf['text'].str.contains('@'), 1, 0)\n",
        "bf['https'] = np.where(bf['text'].str.contains('http'), 1,0)\n",
        "bf['bouldercolorado'] = np.where(bf['text'].str.contains('@bouldercolorado'), 1, 0)\n",
        "bf['BeeAsMarine'] = np.where(bf['text'].str.contains('@BeeAsMarine'), 1, 0)\n",
        "bf['boulder_fire'] = np.where(bf['text'].str.contains('@boulder_fire'), 1, 0)\n",
        "bf.head()"
      ],
      "metadata": {
        "id": "8QPznh0_dgMS",
        "colab": {
          "base_uri": "https://localhost:8080/",
          "height": 371
        },
        "outputId": "e11a25f3-b556-4c88-d253-53876777c383"
      },
      "execution_count": 112,
      "outputs": [
        {
          "output_type": "execute_result",
          "data": {
            "text/plain": [
              "             name                       date  \\\n",
              "0    boulder_fire  2022-03-28 22:55:38+00:00   \n",
              "1  RachelAnneLevy  2022-03-28 22:47:19+00:00   \n",
              "2    Boulderchick  2022-03-28 22:45:07+00:00   \n",
              "3    KhalaCompany  2022-03-28 22:40:19+00:00   \n",
              "4    KhalaCompany  2022-03-28 22:39:29+00:00   \n",
              "\n",
              "                                                text                   id  \\\n",
              "0  RT @BoulderOEM: Containment of #NCARFire is cu...  1508578590010621955   \n",
              "1  Climate change is dangerous and costly. \\n\\nWe...  1508576497744891908   \n",
              "2  No more Fire!!  #Boulder this up near Estes ht...  1508575942947467264   \n",
              "3  RT @rmpbs: \"The concern is that any time there...  1508574735940128778   \n",
              "4  RT @CUBoulderENVS: As we return from Spring Br...  1508574525851672588   \n",
              "\n",
              "   word_count  character_count  mention_count  mention  https  \\\n",
              "0          24              144              1        1      0   \n",
              "1          21              140              0        0      1   \n",
              "2           9               67              0        0      1   \n",
              "3          23              139              1        1      1   \n",
              "4          21              139              2        1      0   \n",
              "\n",
              "   bouldercolorado  BeeAsMarine  boulder_fire  \n",
              "0                0            0             0  \n",
              "1                0            0             0  \n",
              "2                0            0             0  \n",
              "3                0            0             0  \n",
              "4                0            0             0  "
            ],
            "text/html": [
              "\n",
              "  <div id=\"df-8480da0e-be82-4be7-91b5-6db0d1da3433\">\n",
              "    <div class=\"colab-df-container\">\n",
              "      <div>\n",
              "<style scoped>\n",
              "    .dataframe tbody tr th:only-of-type {\n",
              "        vertical-align: middle;\n",
              "    }\n",
              "\n",
              "    .dataframe tbody tr th {\n",
              "        vertical-align: top;\n",
              "    }\n",
              "\n",
              "    .dataframe thead th {\n",
              "        text-align: right;\n",
              "    }\n",
              "</style>\n",
              "<table border=\"1\" class=\"dataframe\">\n",
              "  <thead>\n",
              "    <tr style=\"text-align: right;\">\n",
              "      <th></th>\n",
              "      <th>name</th>\n",
              "      <th>date</th>\n",
              "      <th>text</th>\n",
              "      <th>id</th>\n",
              "      <th>word_count</th>\n",
              "      <th>character_count</th>\n",
              "      <th>mention_count</th>\n",
              "      <th>mention</th>\n",
              "      <th>https</th>\n",
              "      <th>bouldercolorado</th>\n",
              "      <th>BeeAsMarine</th>\n",
              "      <th>boulder_fire</th>\n",
              "    </tr>\n",
              "  </thead>\n",
              "  <tbody>\n",
              "    <tr>\n",
              "      <th>0</th>\n",
              "      <td>boulder_fire</td>\n",
              "      <td>2022-03-28 22:55:38+00:00</td>\n",
              "      <td>RT @BoulderOEM: Containment of #NCARFire is cu...</td>\n",
              "      <td>1508578590010621955</td>\n",
              "      <td>24</td>\n",
              "      <td>144</td>\n",
              "      <td>1</td>\n",
              "      <td>1</td>\n",
              "      <td>0</td>\n",
              "      <td>0</td>\n",
              "      <td>0</td>\n",
              "      <td>0</td>\n",
              "    </tr>\n",
              "    <tr>\n",
              "      <th>1</th>\n",
              "      <td>RachelAnneLevy</td>\n",
              "      <td>2022-03-28 22:47:19+00:00</td>\n",
              "      <td>Climate change is dangerous and costly. \\n\\nWe...</td>\n",
              "      <td>1508576497744891908</td>\n",
              "      <td>21</td>\n",
              "      <td>140</td>\n",
              "      <td>0</td>\n",
              "      <td>0</td>\n",
              "      <td>1</td>\n",
              "      <td>0</td>\n",
              "      <td>0</td>\n",
              "      <td>0</td>\n",
              "    </tr>\n",
              "    <tr>\n",
              "      <th>2</th>\n",
              "      <td>Boulderchick</td>\n",
              "      <td>2022-03-28 22:45:07+00:00</td>\n",
              "      <td>No more Fire!!  #Boulder this up near Estes ht...</td>\n",
              "      <td>1508575942947467264</td>\n",
              "      <td>9</td>\n",
              "      <td>67</td>\n",
              "      <td>0</td>\n",
              "      <td>0</td>\n",
              "      <td>1</td>\n",
              "      <td>0</td>\n",
              "      <td>0</td>\n",
              "      <td>0</td>\n",
              "    </tr>\n",
              "    <tr>\n",
              "      <th>3</th>\n",
              "      <td>KhalaCompany</td>\n",
              "      <td>2022-03-28 22:40:19+00:00</td>\n",
              "      <td>RT @rmpbs: \"The concern is that any time there...</td>\n",
              "      <td>1508574735940128778</td>\n",
              "      <td>23</td>\n",
              "      <td>139</td>\n",
              "      <td>1</td>\n",
              "      <td>1</td>\n",
              "      <td>1</td>\n",
              "      <td>0</td>\n",
              "      <td>0</td>\n",
              "      <td>0</td>\n",
              "    </tr>\n",
              "    <tr>\n",
              "      <th>4</th>\n",
              "      <td>KhalaCompany</td>\n",
              "      <td>2022-03-28 22:39:29+00:00</td>\n",
              "      <td>RT @CUBoulderENVS: As we return from Spring Br...</td>\n",
              "      <td>1508574525851672588</td>\n",
              "      <td>21</td>\n",
              "      <td>139</td>\n",
              "      <td>2</td>\n",
              "      <td>1</td>\n",
              "      <td>0</td>\n",
              "      <td>0</td>\n",
              "      <td>0</td>\n",
              "      <td>0</td>\n",
              "    </tr>\n",
              "  </tbody>\n",
              "</table>\n",
              "</div>\n",
              "      <button class=\"colab-df-convert\" onclick=\"convertToInteractive('df-8480da0e-be82-4be7-91b5-6db0d1da3433')\"\n",
              "              title=\"Convert this dataframe to an interactive table.\"\n",
              "              style=\"display:none;\">\n",
              "        \n",
              "  <svg xmlns=\"http://www.w3.org/2000/svg\" height=\"24px\"viewBox=\"0 0 24 24\"\n",
              "       width=\"24px\">\n",
              "    <path d=\"M0 0h24v24H0V0z\" fill=\"none\"/>\n",
              "    <path d=\"M18.56 5.44l.94 2.06.94-2.06 2.06-.94-2.06-.94-.94-2.06-.94 2.06-2.06.94zm-11 1L8.5 8.5l.94-2.06 2.06-.94-2.06-.94L8.5 2.5l-.94 2.06-2.06.94zm10 10l.94 2.06.94-2.06 2.06-.94-2.06-.94-.94-2.06-.94 2.06-2.06.94z\"/><path d=\"M17.41 7.96l-1.37-1.37c-.4-.4-.92-.59-1.43-.59-.52 0-1.04.2-1.43.59L10.3 9.45l-7.72 7.72c-.78.78-.78 2.05 0 2.83L4 21.41c.39.39.9.59 1.41.59.51 0 1.02-.2 1.41-.59l7.78-7.78 2.81-2.81c.8-.78.8-2.07 0-2.86zM5.41 20L4 18.59l7.72-7.72 1.47 1.35L5.41 20z\"/>\n",
              "  </svg>\n",
              "      </button>\n",
              "      \n",
              "  <style>\n",
              "    .colab-df-container {\n",
              "      display:flex;\n",
              "      flex-wrap:wrap;\n",
              "      gap: 12px;\n",
              "    }\n",
              "\n",
              "    .colab-df-convert {\n",
              "      background-color: #E8F0FE;\n",
              "      border: none;\n",
              "      border-radius: 50%;\n",
              "      cursor: pointer;\n",
              "      display: none;\n",
              "      fill: #1967D2;\n",
              "      height: 32px;\n",
              "      padding: 0 0 0 0;\n",
              "      width: 32px;\n",
              "    }\n",
              "\n",
              "    .colab-df-convert:hover {\n",
              "      background-color: #E2EBFA;\n",
              "      box-shadow: 0px 1px 2px rgba(60, 64, 67, 0.3), 0px 1px 3px 1px rgba(60, 64, 67, 0.15);\n",
              "      fill: #174EA6;\n",
              "    }\n",
              "\n",
              "    [theme=dark] .colab-df-convert {\n",
              "      background-color: #3B4455;\n",
              "      fill: #D2E3FC;\n",
              "    }\n",
              "\n",
              "    [theme=dark] .colab-df-convert:hover {\n",
              "      background-color: #434B5C;\n",
              "      box-shadow: 0px 1px 3px 1px rgba(0, 0, 0, 0.15);\n",
              "      filter: drop-shadow(0px 1px 2px rgba(0, 0, 0, 0.3));\n",
              "      fill: #FFFFFF;\n",
              "    }\n",
              "  </style>\n",
              "\n",
              "      <script>\n",
              "        const buttonEl =\n",
              "          document.querySelector('#df-8480da0e-be82-4be7-91b5-6db0d1da3433 button.colab-df-convert');\n",
              "        buttonEl.style.display =\n",
              "          google.colab.kernel.accessAllowed ? 'block' : 'none';\n",
              "\n",
              "        async function convertToInteractive(key) {\n",
              "          const element = document.querySelector('#df-8480da0e-be82-4be7-91b5-6db0d1da3433');\n",
              "          const dataTable =\n",
              "            await google.colab.kernel.invokeFunction('convertToInteractive',\n",
              "                                                     [key], {});\n",
              "          if (!dataTable) return;\n",
              "\n",
              "          const docLinkHtml = 'Like what you see? Visit the ' +\n",
              "            '<a target=\"_blank\" href=https://colab.research.google.com/notebooks/data_table.ipynb>data table notebook</a>'\n",
              "            + ' to learn more about interactive tables.';\n",
              "          element.innerHTML = '';\n",
              "          dataTable['output_type'] = 'display_data';\n",
              "          await google.colab.output.renderOutput(dataTable, element);\n",
              "          const docLink = document.createElement('div');\n",
              "          docLink.innerHTML = docLinkHtml;\n",
              "          element.appendChild(docLink);\n",
              "        }\n",
              "      </script>\n",
              "    </div>\n",
              "  </div>\n",
              "  "
            ]
          },
          "metadata": {},
          "execution_count": 112
        }
      ]
    },
    {
      "cell_type": "code",
      "source": [
        "bf['boulder_fire'].value_counts()"
      ],
      "metadata": {
        "colab": {
          "base_uri": "https://localhost:8080/"
        },
        "id": "-MoraJEHdmFR",
        "outputId": "4f5f5be7-3a75-4680-9a79-27cd589c14a2"
      },
      "execution_count": 113,
      "outputs": [
        {
          "output_type": "execute_result",
          "data": {
            "text/plain": [
              "0    4651\n",
              "1     348\n",
              "Name: boulder_fire, dtype: int64"
            ]
          },
          "metadata": {},
          "execution_count": 113
        }
      ]
    },
    {
      "cell_type": "code",
      "source": [
        "bf['bouldercolorado'].value_counts()"
      ],
      "metadata": {
        "colab": {
          "base_uri": "https://localhost:8080/"
        },
        "id": "a4zgC9_Advl5",
        "outputId": "f7763c19-562c-4fca-feb1-ed376d21dc6a"
      },
      "execution_count": 114,
      "outputs": [
        {
          "output_type": "execute_result",
          "data": {
            "text/plain": [
              "0    4919\n",
              "1      80\n",
              "Name: bouldercolorado, dtype: int64"
            ]
          },
          "metadata": {},
          "execution_count": 114
        }
      ]
    },
    {
      "cell_type": "markdown",
      "source": [
        "**Stop Words**"
      ],
      "metadata": {
        "id": "UztKzUb6PvDh"
      }
    },
    {
      "cell_type": "code",
      "source": [
        "custom_stop = list(ENGLISH_STOP_WORDS)\n",
        "custom_stop.extend([\"b'RT\",\"000\", \"x80\", \"x82\", \"x8f\", \"x99\", \"x94\", \"x98\", \"x99m\", \"x99s\", \"x9d\", \"x9f\", \"xa5\", \n",
        "                    \"xa6\", \"xa6'RT\", \"xa6'b'RT\", \"xa6'b'\", \"xb8\", \"xe2\", \"xef\", \"xf0\", \"amp\", 'angele', 'angeles',\n",
        "                    \"b'\", \"Center\", 'center', 'com', \"Getty\", 'getty', 'gettyfire', \"Getty Center\", \"GettyFire\",\n",
        "                    'kincade', \"instagram\", \"htpps\", \"http\", \"nhttp\", \"nhttps\", 'los', \"Los Angeles\", \"Los Angele\",\n",
        "                    \"Los\", \"Angele\", \"outfit\", 'rd', 'rt', \"taco\", \"tick\", \"truck\", \"taco truck\", \"www\", \"instagram\", \n",
        "                    \"xa6'b'RT\", \"xa6'b'\", \"xa6'RT\", \"xb8\", \"x9d\", \"xef\", \"x8f\", 'http','colorado','co',\n",
        "                    'springs','waldo','canyon','cofire','rt','boulder','waldocanyonfire', 'highparkfire','denverpost',\n",
        "                    'denver','colo', 'tickfire', 'tick', 'kincadefire', 'mariafire', 'saddleridge', \n",
        "                    'center', 'sonoma', 'sonoma county', 'county', 'https twitter', 'https', 'twitter', 'pic', 'pic twitter',\n",
        "                   'don x99t', 'x99t', 'youtube', 'youtub', 'ca', 'california', 'santa clarita', 'clarita', 'don', 'santa'])"
      ],
      "metadata": {
        "id": "i6xSkypGPtqh"
      },
      "execution_count": 115,
      "outputs": []
    },
    {
      "cell_type": "markdown",
      "source": [
        "**Count Vectorizer**"
      ],
      "metadata": {
        "id": "_xGIUa2VPbdu"
      }
    },
    {
      "cell_type": "code",
      "source": [
        "X = bf['text']\n",
        "cvec = CountVectorizer(stop_words = custom_stop, ngram_range=(1,1), min_df = 100, max_df = .90)\n",
        "\n",
        "words_bf = pd.DataFrame(\n",
        "    cvec.fit_transform(X).todense(),\n",
        "    columns = cvec.get_feature_names()\n",
        ")\n",
        "\n",
        "top_30 = words_bf.sum().sort_values(ascending = True).tail(30)\n",
        "plt.title('Top 30 Words', fontsize = 18)\n",
        "top_30.plot.barh(figsize = (10,8), color='#0C2F39');"
      ],
      "metadata": {
        "colab": {
          "base_uri": "https://localhost:8080/",
          "height": 558
        },
        "id": "sVxfVCB3623a",
        "outputId": "f0a45f3d-0d0a-4c1b-bee2-8fd70db7b703"
      },
      "execution_count": 116,
      "outputs": [
        {
          "output_type": "stream",
          "name": "stderr",
          "text": [
            "/usr/local/lib/python3.7/dist-packages/sklearn/utils/deprecation.py:87: FutureWarning: Function get_feature_names is deprecated; get_feature_names is deprecated in 1.0 and will be removed in 1.2. Please use get_feature_names_out instead.\n",
            "  warnings.warn(msg, category=FutureWarning)\n"
          ]
        },
        {
          "output_type": "display_data",
          "data": {
            "text/plain": [
              "<Figure size 720x576 with 1 Axes>"
            ],
            "image/png": "[encoded data removed]"
          },
          "metadata": {
            "needs_background": "light"
          }
        }
      ]
    },
    {
      "cell_type": "markdown",
      "source": [
        "**Sentiment Analysis**"
      ],
      "metadata": {
        "id": "ildosXXV_QOw"
      }
    },
    {
      "cell_type": "code",
      "source": [
        "from nltk.sentiment.vader import SentimentIntensityAnalyzer\n",
        "boulder = SentimentIntensityAnalyzer()\n",
        "fig, ax1 = plt.subplots(1,1, figsize = (14,7))\n",
        "bf.groupby('text')['boulder_fire'].hist(alpha = 0.5, ax = ax1)\n",
        "ax1.legend(['non-emergency', 'fire'])\n",
        "plt.title('Sentiment Analysis', fontsize = 15)\n",
        "plt.xlabel('Sentiment Scale', fontsize = 15)\n",
        "plt.show()"
      ],
      "metadata": {
        "id": "69-VQe7bQ57U",
        "outputId": "d8f06156-db86-4dfc-a825-69971b4ca77b",
        "colab": {
          "base_uri": "https://localhost:8080/",
          "height": 465
        }
      },
      "execution_count": 117,
      "outputs": [
        {
          "output_type": "display_data",
          "data": {
            "text/plain": [
              "<Figure size 1008x504 with 1 Axes>"
            ],
            "image/png": "[encoded data removed]"
          },
          "metadata": {
            "needs_background": "light"
          }
        }
      ]
    }
  ]
}